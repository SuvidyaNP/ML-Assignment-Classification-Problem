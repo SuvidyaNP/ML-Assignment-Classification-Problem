{
 "cells": [
  {
   "cell_type": "markdown",
   "id": "d3f130fe-141b-4b2e-865e-018f00a1a8b3",
   "metadata": {},
   "source": [
    "# Loading and Preprocessing"
   ]
  },
  {
   "cell_type": "code",
   "execution_count": 6,
   "id": "ae9c2318-5fda-487c-915f-2038aaeaa748",
   "metadata": {},
   "outputs": [],
   "source": [
    "# Importing necessary libraries:\n",
    "from sklearn.datasets import load_breast_cancer\n",
    "import pandas as pd\n",
    "from sklearn.model_selection import train_test_split\n",
    "from sklearn.preprocessing import StandardScaler\n",
    "from sklearn.impute import SimpleImputer"
   ]
  },
  {
   "cell_type": "code",
   "execution_count": 8,
   "id": "acef9526-3632-494d-a0c2-327343f1703d",
   "metadata": {},
   "outputs": [],
   "source": [
    "# Load the breast cancer dataset:\n",
    "data = load_breast_cancer()\n",
    "df = pd.DataFrame(data.data, columns=data.feature_names)\n",
    "df['target'] = data.target"
   ]
  },
  {
   "cell_type": "code",
   "execution_count": 10,
   "id": "c51acb89-08e9-4046-836f-190af63a12e5",
   "metadata": {},
   "outputs": [
    {
     "name": "stdout",
     "output_type": "stream",
     "text": [
      "<class 'pandas.core.frame.DataFrame'>\n",
      "RangeIndex: 569 entries, 0 to 568\n",
      "Data columns (total 31 columns):\n",
      " #   Column                   Non-Null Count  Dtype  \n",
      "---  ------                   --------------  -----  \n",
      " 0   mean radius              569 non-null    float64\n",
      " 1   mean texture             569 non-null    float64\n",
      " 2   mean perimeter           569 non-null    float64\n",
      " 3   mean area                569 non-null    float64\n",
      " 4   mean smoothness          569 non-null    float64\n",
      " 5   mean compactness         569 non-null    float64\n",
      " 6   mean concavity           569 non-null    float64\n",
      " 7   mean concave points      569 non-null    float64\n",
      " 8   mean symmetry            569 non-null    float64\n",
      " 9   mean fractal dimension   569 non-null    float64\n",
      " 10  radius error             569 non-null    float64\n",
      " 11  texture error            569 non-null    float64\n",
      " 12  perimeter error          569 non-null    float64\n",
      " 13  area error               569 non-null    float64\n",
      " 14  smoothness error         569 non-null    float64\n",
      " 15  compactness error        569 non-null    float64\n",
      " 16  concavity error          569 non-null    float64\n",
      " 17  concave points error     569 non-null    float64\n",
      " 18  symmetry error           569 non-null    float64\n",
      " 19  fractal dimension error  569 non-null    float64\n",
      " 20  worst radius             569 non-null    float64\n",
      " 21  worst texture            569 non-null    float64\n",
      " 22  worst perimeter          569 non-null    float64\n",
      " 23  worst area               569 non-null    float64\n",
      " 24  worst smoothness         569 non-null    float64\n",
      " 25  worst compactness        569 non-null    float64\n",
      " 26  worst concavity          569 non-null    float64\n",
      " 27  worst concave points     569 non-null    float64\n",
      " 28  worst symmetry           569 non-null    float64\n",
      " 29  worst fractal dimension  569 non-null    float64\n",
      " 30  target                   569 non-null    int32  \n",
      "dtypes: float64(30), int32(1)\n",
      "memory usage: 135.7 KB\n",
      "None\n",
      "       mean radius  mean texture  mean perimeter    mean area  \\\n",
      "count   569.000000    569.000000      569.000000   569.000000   \n",
      "mean     14.127292     19.289649       91.969033   654.889104   \n",
      "std       3.524049      4.301036       24.298981   351.914129   \n",
      "min       6.981000      9.710000       43.790000   143.500000   \n",
      "25%      11.700000     16.170000       75.170000   420.300000   \n",
      "50%      13.370000     18.840000       86.240000   551.100000   \n",
      "75%      15.780000     21.800000      104.100000   782.700000   \n",
      "max      28.110000     39.280000      188.500000  2501.000000   \n",
      "\n",
      "       mean smoothness  mean compactness  mean concavity  mean concave points  \\\n",
      "count       569.000000        569.000000      569.000000           569.000000   \n",
      "mean          0.096360          0.104341        0.088799             0.048919   \n",
      "std           0.014064          0.052813        0.079720             0.038803   \n",
      "min           0.052630          0.019380        0.000000             0.000000   \n",
      "25%           0.086370          0.064920        0.029560             0.020310   \n",
      "50%           0.095870          0.092630        0.061540             0.033500   \n",
      "75%           0.105300          0.130400        0.130700             0.074000   \n",
      "max           0.163400          0.345400        0.426800             0.201200   \n",
      "\n",
      "       mean symmetry  mean fractal dimension  ...  worst texture  \\\n",
      "count     569.000000              569.000000  ...     569.000000   \n",
      "mean        0.181162                0.062798  ...      25.677223   \n",
      "std         0.027414                0.007060  ...       6.146258   \n",
      "min         0.106000                0.049960  ...      12.020000   \n",
      "25%         0.161900                0.057700  ...      21.080000   \n",
      "50%         0.179200                0.061540  ...      25.410000   \n",
      "75%         0.195700                0.066120  ...      29.720000   \n",
      "max         0.304000                0.097440  ...      49.540000   \n",
      "\n",
      "       worst perimeter   worst area  worst smoothness  worst compactness  \\\n",
      "count       569.000000   569.000000        569.000000         569.000000   \n",
      "mean        107.261213   880.583128          0.132369           0.254265   \n",
      "std          33.602542   569.356993          0.022832           0.157336   \n",
      "min          50.410000   185.200000          0.071170           0.027290   \n",
      "25%          84.110000   515.300000          0.116600           0.147200   \n",
      "50%          97.660000   686.500000          0.131300           0.211900   \n",
      "75%         125.400000  1084.000000          0.146000           0.339100   \n",
      "max         251.200000  4254.000000          0.222600           1.058000   \n",
      "\n",
      "       worst concavity  worst concave points  worst symmetry  \\\n",
      "count       569.000000            569.000000      569.000000   \n",
      "mean          0.272188              0.114606        0.290076   \n",
      "std           0.208624              0.065732        0.061867   \n",
      "min           0.000000              0.000000        0.156500   \n",
      "25%           0.114500              0.064930        0.250400   \n",
      "50%           0.226700              0.099930        0.282200   \n",
      "75%           0.382900              0.161400        0.317900   \n",
      "max           1.252000              0.291000        0.663800   \n",
      "\n",
      "       worst fractal dimension      target  \n",
      "count               569.000000  569.000000  \n",
      "mean                  0.083946    0.627417  \n",
      "std                   0.018061    0.483918  \n",
      "min                   0.055040    0.000000  \n",
      "25%                   0.071460    0.000000  \n",
      "50%                   0.080040    1.000000  \n",
      "75%                   0.092080    1.000000  \n",
      "max                   0.207500    1.000000  \n",
      "\n",
      "[8 rows x 31 columns]\n"
     ]
    }
   ],
   "source": [
    "# Display basic information about the dataset:\n",
    "print(df.info())\n",
    "print(df.describe())"
   ]
  },
  {
   "cell_type": "code",
   "execution_count": 14,
   "id": "b7476389-8a1b-4293-943f-1a6febf328da",
   "metadata": {},
   "outputs": [
    {
     "name": "stdout",
     "output_type": "stream",
     "text": [
      "mean radius                0\n",
      "mean texture               0\n",
      "mean perimeter             0\n",
      "mean area                  0\n",
      "mean smoothness            0\n",
      "mean compactness           0\n",
      "mean concavity             0\n",
      "mean concave points        0\n",
      "mean symmetry              0\n",
      "mean fractal dimension     0\n",
      "radius error               0\n",
      "texture error              0\n",
      "perimeter error            0\n",
      "area error                 0\n",
      "smoothness error           0\n",
      "compactness error          0\n",
      "concavity error            0\n",
      "concave points error       0\n",
      "symmetry error             0\n",
      "fractal dimension error    0\n",
      "worst radius               0\n",
      "worst texture              0\n",
      "worst perimeter            0\n",
      "worst area                 0\n",
      "worst smoothness           0\n",
      "worst compactness          0\n",
      "worst concavity            0\n",
      "worst concave points       0\n",
      "worst symmetry             0\n",
      "worst fractal dimension    0\n",
      "target                     0\n",
      "dtype: int64\n"
     ]
    }
   ],
   "source": [
    "# Check for missing values:\n",
    "print(df.isnull().sum())"
   ]
  },
  {
   "cell_type": "code",
   "execution_count": 24,
   "id": "5dbcbd8a-78f1-4310-89d8-5e19588b3f33",
   "metadata": {},
   "outputs": [],
   "source": [
    "# Preprocessing: Handling missing values (if any):\n",
    "imputer = SimpleImputer(strategy='mean')  # Replace missing values with the mean\n",
    "df.iloc[:, :-1] = imputer.fit_transform(df.iloc[:, :-1])"
   ]
  },
  {
   "cell_type": "code",
   "execution_count": 26,
   "id": "9e853a3c-c20b-4bcf-ab98-d27663d84392",
   "metadata": {},
   "outputs": [],
   "source": [
    "# Feature scaling: Standardizing the features:\n",
    "scaler = StandardScaler()\n",
    "X = scaler.fit_transform(df.iloc[:, :-1])  # Scale features\n",
    "y = df['target']  # Target variable"
   ]
  },
  {
   "cell_type": "code",
   "execution_count": 28,
   "id": "f8d5b267-f7af-4b14-a09c-4b195973e429",
   "metadata": {},
   "outputs": [],
   "source": [
    "# Splitting the dataset:\n",
    "X_train, X_test, y_train, y_test = train_test_split(X, y, test_size=0.2, random_state=42)"
   ]
  },
  {
   "cell_type": "markdown",
   "id": "de7d031a-55d6-4e1f-b8cd-75b6866bb35b",
   "metadata": {},
   "source": [
    "**Load Data:** \n",
    "load_breast_cancer() loads the dataset into a Bunch object, which we convert into a DataFrame for easier handling.\n",
    "\n",
    "**Missing Values:**\n",
    "If missing values exist, we replace them with the mean using SimpleImputer. For this dataset, there are no missing values by default.\n",
    "\n",
    "**Feature Scaling:**\n",
    "Standardization ensures all features have a mean of 0 and a standard deviation of 1, which is crucial for algorithms like SVM and k-NN."
   ]
  },
  {
   "cell_type": "markdown",
   "id": "fd66c358-e7f5-44a3-a2f2-7185523bf407",
   "metadata": {},
   "source": [
    "# Classification Algorithm Implementation"
   ]
  },
  {
   "cell_type": "markdown",
   "id": "d05de7c7-d7eb-456b-a33f-8f2f50d2564e",
   "metadata": {},
   "source": [
    "## 1. Logistic Regression"
   ]
  },
  {
   "cell_type": "code",
   "execution_count": 37,
   "id": "152f7dff-492b-4397-bcbf-af65039ed14c",
   "metadata": {},
   "outputs": [
    {
     "name": "stdout",
     "output_type": "stream",
     "text": [
      "Logistic Regression Accuracy: 0.9736842105263158\n",
      "              precision    recall  f1-score   support\n",
      "\n",
      "           0       0.98      0.95      0.96        43\n",
      "           1       0.97      0.99      0.98        71\n",
      "\n",
      "    accuracy                           0.97       114\n",
      "   macro avg       0.97      0.97      0.97       114\n",
      "weighted avg       0.97      0.97      0.97       114\n",
      "\n"
     ]
    }
   ],
   "source": [
    "from sklearn.linear_model import LogisticRegression\n",
    "from sklearn.metrics import accuracy_score, classification_report\n",
    "\n",
    "# Logistic Regression:\n",
    "logreg = LogisticRegression(random_state=42)\n",
    "logreg.fit(X_train, y_train)\n",
    "y_pred_logreg = logreg.predict(X_test)\n",
    "\n",
    "print(\"Logistic Regression Accuracy:\", accuracy_score(y_test, y_pred_logreg))\n",
    "print(classification_report(y_test, y_pred_logreg))"
   ]
  },
  {
   "cell_type": "markdown",
   "id": "c2bf3ea0-cda5-4bb9-94bf-0a33c7029a75",
   "metadata": {},
   "source": [
    "## 2. Decision Tree Classifier"
   ]
  },
  {
   "cell_type": "code",
   "execution_count": 43,
   "id": "3cc24fa7-523f-4a75-9efd-c692b9cc819e",
   "metadata": {},
   "outputs": [
    {
     "name": "stdout",
     "output_type": "stream",
     "text": [
      "Decision Tree Accuracy: 0.9473684210526315\n",
      "              precision    recall  f1-score   support\n",
      "\n",
      "           0       0.93      0.93      0.93        43\n",
      "           1       0.96      0.96      0.96        71\n",
      "\n",
      "    accuracy                           0.95       114\n",
      "   macro avg       0.94      0.94      0.94       114\n",
      "weighted avg       0.95      0.95      0.95       114\n",
      "\n"
     ]
    }
   ],
   "source": [
    "from sklearn.tree import DecisionTreeClassifier\n",
    "\n",
    "# Decision Tree Classifier:\n",
    "dt = DecisionTreeClassifier(random_state=42)\n",
    "dt.fit(X_train, y_train)\n",
    "y_pred_dt = dt.predict(X_test)\n",
    "\n",
    "print(\"Decision Tree Accuracy:\", accuracy_score(y_test, y_pred_dt))\n",
    "print(classification_report(y_test, y_pred_dt))"
   ]
  },
  {
   "cell_type": "markdown",
   "id": "f027d715-dfae-44b7-8327-c414b8333f18",
   "metadata": {},
   "source": [
    "## 3. Random Forest Classifier"
   ]
  },
  {
   "cell_type": "code",
   "execution_count": 48,
   "id": "01312d75-3f18-4600-80c1-0edeb104d006",
   "metadata": {},
   "outputs": [
    {
     "name": "stdout",
     "output_type": "stream",
     "text": [
      "Random Forest Accuracy: 0.9649122807017544\n",
      "              precision    recall  f1-score   support\n",
      "\n",
      "           0       0.98      0.93      0.95        43\n",
      "           1       0.96      0.99      0.97        71\n",
      "\n",
      "    accuracy                           0.96       114\n",
      "   macro avg       0.97      0.96      0.96       114\n",
      "weighted avg       0.97      0.96      0.96       114\n",
      "\n"
     ]
    }
   ],
   "source": [
    "from sklearn.ensemble import RandomForestClassifier\n",
    "\n",
    "# Random Forest Classifier:\n",
    "rf = RandomForestClassifier(random_state=42)\n",
    "rf.fit(X_train, y_train)\n",
    "y_pred_rf = rf.predict(X_test)\n",
    "\n",
    "print(\"Random Forest Accuracy:\", accuracy_score(y_test, y_pred_rf))\n",
    "print(classification_report(y_test, y_pred_rf))"
   ]
  },
  {
   "cell_type": "markdown",
   "id": "23d11c0a-0a2e-4b12-a296-70acaf0fd2a7",
   "metadata": {},
   "source": [
    "## 4. Support Vector Machine (SVM)"
   ]
  },
  {
   "cell_type": "code",
   "execution_count": 51,
   "id": "5a657af3-6fc8-4d63-977e-ba026b657210",
   "metadata": {},
   "outputs": [
    {
     "name": "stdout",
     "output_type": "stream",
     "text": [
      "SVM Accuracy: 0.956140350877193\n",
      "              precision    recall  f1-score   support\n",
      "\n",
      "           0       0.93      0.95      0.94        43\n",
      "           1       0.97      0.96      0.96        71\n",
      "\n",
      "    accuracy                           0.96       114\n",
      "   macro avg       0.95      0.96      0.95       114\n",
      "weighted avg       0.96      0.96      0.96       114\n",
      "\n"
     ]
    }
   ],
   "source": [
    "from sklearn.svm import SVC\n",
    "\n",
    "# Support Vector Machine:\n",
    "svm = SVC(kernel='linear', random_state=42)\n",
    "svm.fit(X_train, y_train)\n",
    "y_pred_svm = svm.predict(X_test)\n",
    "\n",
    "print(\"SVM Accuracy:\", accuracy_score(y_test, y_pred_svm))\n",
    "print(classification_report(y_test, y_pred_svm))"
   ]
  },
  {
   "cell_type": "markdown",
   "id": "4e7d4988-7258-4da9-85cf-5f792ca1636b",
   "metadata": {},
   "source": [
    "## 5. k-Nearest Neighbors (k-NN)"
   ]
  },
  {
   "cell_type": "code",
   "execution_count": 54,
   "id": "b8a02541-528b-497d-8905-a46b3db4eb9c",
   "metadata": {},
   "outputs": [
    {
     "name": "stdout",
     "output_type": "stream",
     "text": [
      "k-NN Accuracy: 0.9473684210526315\n",
      "              precision    recall  f1-score   support\n",
      "\n",
      "           0       0.93      0.93      0.93        43\n",
      "           1       0.96      0.96      0.96        71\n",
      "\n",
      "    accuracy                           0.95       114\n",
      "   macro avg       0.94      0.94      0.94       114\n",
      "weighted avg       0.95      0.95      0.95       114\n",
      "\n"
     ]
    }
   ],
   "source": [
    "from sklearn.neighbors import KNeighborsClassifier\n",
    "\n",
    "# k-Nearest Neighbors:\n",
    "knn = KNeighborsClassifier(n_neighbors=5)\n",
    "knn.fit(X_train, y_train)\n",
    "y_pred_knn = knn.predict(X_test)\n",
    "\n",
    "print(\"k-NN Accuracy:\", accuracy_score(y_test, y_pred_knn))\n",
    "print(classification_report(y_test, y_pred_knn))"
   ]
  },
  {
   "cell_type": "markdown",
   "id": "f61e548f-73b3-425b-9051-ecd42fb812fb",
   "metadata": {},
   "source": [
    "## 1. Logistic Regression\n",
    "**How it Works:**\n",
    "Logistic regression is a linear model that predicts the probability of a binary outcome using a logistic function (sigmoid). It uses maximum likelihood estimation to find the best-fitting decision boundary for classification.\n",
    "\n",
    "**Suitability:** \n",
    "Logistic regression is ideal for binary classification problems like this dataset (malignant vs. benign). It’s simple, interpretable, and effective when the relationship between features and the target is approximately linear."
   ]
  },
  {
   "cell_type": "markdown",
   "id": "7841b689-68db-4c20-a16d-891f49c151bc",
   "metadata": {},
   "source": [
    "## 2. Decision Tree Classifier\n",
    "**How it Works:** \n",
    "Decision trees split the data based on feature thresholds to create a tree structure. Each split maximizes the separation of the classes, often using measures like Gini impurity or entropy.\n",
    "\n",
    "**Suitability:** \n",
    "Decision trees are non-linear models that can handle complex relationships between features. They are interpretable and can capture interactions between variables, which may be present in this dataset."
   ]
  },
  {
   "cell_type": "markdown",
   "id": "648e6115-5b43-46e2-a1b3-e84b79049928",
   "metadata": {},
   "source": [
    "## 3. Random Forest Classifier\n",
    "**How it Works:** \n",
    "Random forests are an ensemble method that builds multiple decision trees (using random subsets of features and data) and aggregates their predictions (majority voting for classification).\n",
    "\n",
    "**Suitability:** \n",
    "Random forests are robust to overfitting and perform well on datasets with many features, such as this one. They handle noisy data effectively and provide feature importance, which can help identify the most significant predictors of breast cancer."
   ]
  },
  {
   "cell_type": "markdown",
   "id": "68296dbd-289e-4526-b1ee-ebb48dafbdc4",
   "metadata": {},
   "source": [
    "## 4. Support Vector Machine (SVM)\n",
    "**How it Works:** \n",
    "SVM finds the hyperplane that best separates the classes by maximizing the margin between the nearest points of each class (support vectors). It supports different kernels (e.g., linear, polynomial, RBF) to handle linear and non-linear relationships.\n",
    "\n",
    "**Suitability:** \n",
    "SVM is particularly effective for high-dimensional datasets like this one, as it performs well even when the number of features is large compared to the number of samples. A linear kernel is suitable if the classes are linearly separable."
   ]
  },
  {
   "cell_type": "markdown",
   "id": "485f4fc0-fad7-41e4-80c3-2b8f3fddc69b",
   "metadata": {},
   "source": [
    "## 5. k-Nearest Neighbors (k-NN)\n",
    "**How it Works:** \n",
    "k-NN is a lazy learning algorithm that classifies a sample based on the majority class of its k nearest neighbors in feature space, measured using distance metrics (e.g., Euclidean).\n",
    "\n",
    "**Suitability:** \n",
    "k-NN is simple and effective for small-to-medium-sized datasets. However, it relies on feature scaling (as done in preprocessing) to ensure that distance calculations are meaningful. It’s suitable here since the dataset has clear class separations."
   ]
  },
  {
   "cell_type": "markdown",
   "id": "db22b9c6-5a6c-49f2-a833-2ed352c2fd91",
   "metadata": {},
   "source": [
    "# Model Comparison"
   ]
  },
  {
   "cell_type": "code",
   "execution_count": 63,
   "id": "351d1f34-fadb-44de-8346-872b9d002687",
   "metadata": {},
   "outputs": [],
   "source": [
    "# Comparing the accuracy of all models:\n",
    "model_accuracies = {\n",
    "    \"Logistic Regression\": accuracy_score(y_test, y_pred_logreg),\n",
    "    \"Decision Tree\": accuracy_score(y_test, y_pred_dt),\n",
    "    \"Random Forest\": accuracy_score(y_test, y_pred_rf),\n",
    "    \"SVM\": accuracy_score(y_test, y_pred_svm),\n",
    "    \"k-NN\": accuracy_score(y_test, y_pred_knn)\n",
    "}"
   ]
  },
  {
   "cell_type": "code",
   "execution_count": 65,
   "id": "49cecf7c-5010-4520-b1b3-edd81ce7daa6",
   "metadata": {},
   "outputs": [
    {
     "name": "stdout",
     "output_type": "stream",
     "text": [
      "Model Comparison:\n",
      "Logistic Regression: 0.97\n",
      "Random Forest: 0.96\n",
      "SVM: 0.96\n",
      "Decision Tree: 0.95\n",
      "k-NN: 0.95\n"
     ]
    }
   ],
   "source": [
    "# Sorting and displaying the results:\n",
    "sorted_accuracies = sorted(model_accuracies.items(), key=lambda x: x[1], reverse=True)\n",
    "print(\"Model Comparison:\")\n",
    "for model, accuracy in sorted_accuracies:\n",
    "    print(f\"{model}: {accuracy:.2f}\")"
   ]
  },
  {
   "cell_type": "markdown",
   "id": "dec0f269-bf7c-4847-b340-db1f2ae67a61",
   "metadata": {},
   "source": [
    "### Best Performing Algorithm:\n",
    "**Logistic Regression:**\n",
    "Achieved the highest accuracy (0.97). It’s likely due to the linear nature of the dataset and the effective feature scaling applied.\n",
    "\n",
    "### Worst Performing Algorithm:\n",
    "**Decision Tree and k-NN:** \n",
    "Both performed slightly worse with 0.95 accuracy. The Decision Tree might have overfitted slightly, while k-NN's performance is sensitive to the choice of k and data scaling."
   ]
  },
  {
   "cell_type": "code",
   "execution_count": 71,
   "id": "2b92a4c5-9583-463e-ae2d-f665a81324fc",
   "metadata": {},
   "outputs": [
    {
     "data": {
      "image/png": "[encoded data removed]",
      "text/plain": [
       "<Figure size 1000x600 with 1 Axes>"
      ]
     },
     "metadata": {},
     "output_type": "display_data"
    }
   ],
   "source": [
    "import matplotlib.pyplot as plt\n",
    "\n",
    "# Extracting model names and accuracies:\n",
    "models = [item[0] for item in sorted_accuracies]\n",
    "accuracies = [item[1] for item in sorted_accuracies]\n",
    "\n",
    "# Creating the bar chart:\n",
    "plt.figure(figsize=(10, 6))\n",
    "plt.bar(models, accuracies, color=['blue', 'green', 'red', 'orange', 'purple'])\n",
    "plt.ylim(0.9, 1)  # Set y-axis range for better visibility\n",
    "plt.xlabel(\"Classification Algorithms\", fontsize=12)\n",
    "plt.ylabel(\"Accuracy\", fontsize=12)\n",
    "plt.title(\"Model Comparison - Accuracy\", fontsize=14)\n",
    "plt.xticks(rotation=45)\n",
    "plt.grid(axis='y', linestyle='--', alpha=0.7)\n",
    "plt.show()"
   ]
  },
  {
   "cell_type": "code",
   "execution_count": null,
   "id": "e25cf9bd-89f3-45fd-a2ec-3425f230a567",
   "metadata": {},
   "outputs": [],
   "source": []
  }
 ],
 "metadata": {
  "kernelspec": {
   "display_name": "Python 3 (ipykernel)",
   "language": "python",
   "name": "python3"
  },
  "language_info": {
   "codemirror_mode": {
    "name": "ipython",
    "version": 3
   },
   "file_extension": ".py",
   "mimetype": "text/x-python",
   "name": "python",
   "nbconvert_exporter": "python",
   "pygments_lexer": "ipython3",
   "version": "3.12.4"
  }
 },
 "nbformat": 4,
 "nbformat_minor": 5
}
